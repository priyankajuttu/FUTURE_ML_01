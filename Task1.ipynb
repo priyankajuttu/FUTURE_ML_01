{
  "nbformat": 4,
  "nbformat_minor": 0,
  "metadata": {
    "colab": {
      "provenance": [],
      "authorship_tag": "ABX9TyMgKknp1JGhWVGz0YK49FCF",
      "include_colab_link": true
    },
    "kernelspec": {
      "name": "python3",
      "display_name": "Python 3"
    },
    "language_info": {
      "name": "python"
    }
  },
  "cells": [
    {
      "cell_type": "markdown",
      "metadata": {
        "id": "view-in-github",
        "colab_type": "text"
      },
      "source": [
        "<a href=\"https://colab.research.google.com/github/priyankajuttu/FUTURE_ML_01/blob/main/Task1.ipynb\" target=\"_parent\"><img src=\"https://colab.research.google.com/assets/colab-badge.svg\" alt=\"Open In Colab\"/></a>"
      ]
    },
    {
      "cell_type": "code",
      "source": [
        "!unzip archive.zip\n"
      ],
      "metadata": {
        "id": "mmg8J1OtuXE4"
      },
      "execution_count": null,
      "outputs": []
    },
    {
      "cell_type": "code",
      "source": [
        "import pandas as pd\n",
        "\n",
        "df = pd.read_csv('Sample - Superstore.csv', encoding='ISO-8859-1')\n",
        "print(df.head())\n",
        "print(df.info())\n"
      ],
      "metadata": {
        "id": "BBRkntLtv0gf"
      },
      "execution_count": null,
      "outputs": []
    },
    {
      "cell_type": "code",
      "source": [
        "print(df.columns)\n",
        "print(df.isnull().sum())\n",
        "print(df.head())\n"
      ],
      "metadata": {
        "id": "q3KJw4wdzBg-"
      },
      "execution_count": null,
      "outputs": []
    },
    {
      "cell_type": "code",
      "source": [
        "df['Order Date'] = pd.to_datetime(df['Order Date'])\n",
        "print(df['Order Date'].head())\n"
      ],
      "metadata": {
        "id": "X6mxchvRzUQ8"
      },
      "execution_count": null,
      "outputs": []
    },
    {
      "cell_type": "code",
      "source": [
        "print(df.isnull().sum())\n"
      ],
      "metadata": {
        "id": "dLWbc1Dl0u9U"
      },
      "execution_count": null,
      "outputs": []
    },
    {
      "cell_type": "code",
      "source": [
        "df['Year'] = df['Order Date'].dt.year\n",
        "df['Month'] = df['Order Date'].dt.month\n",
        "df['Day'] = df['Order Date'].dt.day\n",
        "df['Weekday'] = df['Order Date'].dt.day_name()\n",
        "print(df[['Order Date', 'Year', 'Month', 'Day', 'Weekday']].head())\n"
      ],
      "metadata": {
        "id": "kUVJe0EA1N3p"
      },
      "execution_count": null,
      "outputs": []
    },
    {
      "cell_type": "code",
      "source": [
        "print(df.columns)\n"
      ],
      "metadata": {
        "id": "Wk0jewV91t9M"
      },
      "execution_count": null,
      "outputs": []
    },
    {
      "cell_type": "code",
      "source": [
        "# Replace 'Sales' with your actual sales amount column name\n",
        "monthly_sales = df.groupby([df['Order Date'].dt.to_period('M')])['Sales'].sum()\n",
        "print(monthly_sales.head())\n"
      ],
      "metadata": {
        "id": "vtXDnCsx117V"
      },
      "execution_count": null,
      "outputs": []
    },
    {
      "cell_type": "code",
      "source": [
        "df['Year'] = df['Order Date'].dt.year\n",
        "df['Month'] = df['Order Date'].dt.month\n",
        "df['Day'] = df['Order Date'].dt.day\n",
        "df['Weekday'] = df['Order Date'].dt.day_name()\n",
        "\n",
        "print(df[['Order Date', 'Year', 'Month', 'Day', 'Weekday']].head())\n"
      ],
      "metadata": {
        "id": "gCjx813k3ye3"
      },
      "execution_count": null,
      "outputs": []
    },
    {
      "cell_type": "code",
      "source": [
        "# Aggregate monthly sales\n",
        "monthly_sales = df.groupby(df['Order Date'].dt.to_period('M')).agg({'Sales': 'sum'})\n",
        "monthly_sales = monthly_sales.reset_index()\n",
        "monthly_sales['Order Date'] = monthly_sales['Order Date'].dt.to_timestamp()\n",
        "\n",
        "print(monthly_sales.head())\n"
      ],
      "metadata": {
        "id": "dAVh2FJy4J_M"
      },
      "execution_count": null,
      "outputs": []
    },
    {
      "cell_type": "code",
      "source": [
        "import matplotlib.pyplot as plt\n",
        "\n",
        "plt.figure(figsize=(12, 6))\n",
        "plt.plot(monthly_sales['Order Date'], monthly_sales['Sales'], marker='o')\n",
        "plt.title('Monthly Sales Trend')\n",
        "plt.xlabel('Month')\n",
        "plt.ylabel('Total Sales')\n",
        "plt.grid(True)\n",
        "plt.tight_layout()\n",
        "plt.show()\n"
      ],
      "metadata": {
        "id": "86C5WsJR6uCq"
      },
      "execution_count": null,
      "outputs": []
    },
    {
      "cell_type": "code",
      "source": [
        "!pip install prophet\n"
      ],
      "metadata": {
        "id": "Hu-Qa0Yx8j7I"
      },
      "execution_count": null,
      "outputs": []
    },
    {
      "cell_type": "code",
      "source": [
        "df_prophet = monthly_sales.rename(columns={'Order Date': 'ds', 'Sales': 'y'})\n",
        "print(df_prophet.head())\n"
      ],
      "metadata": {
        "id": "jmVeEQwa8oH2"
      },
      "execution_count": null,
      "outputs": []
    },
    {
      "cell_type": "code",
      "source": [
        "from prophet import Prophet\n",
        "\n",
        "model = Prophet()\n",
        "model.fit(df_prophet)  # Ensure df_prophet is already defined as shown earlier\n"
      ],
      "metadata": {
        "id": "J1Sem09Y9B3i"
      },
      "execution_count": null,
      "outputs": []
    },
    {
      "cell_type": "code",
      "source": [
        "future = model.make_future_dataframe(periods=12, freq='M')\n",
        "forecast = model.predict(future)\n"
      ],
      "metadata": {
        "id": "9ZxkAJOu9FDl"
      },
      "execution_count": null,
      "outputs": []
    },
    {
      "cell_type": "code",
      "source": [
        "fig = model.plot(forecast)\n"
      ],
      "metadata": {
        "id": "d1qZiYvU9LL0"
      },
      "execution_count": null,
      "outputs": []
    },
    {
      "cell_type": "code",
      "source": [
        "# Show last 12 months (which are the forecasted months)\n",
        "print(forecast[['ds', 'yhat', 'yhat_lower', 'yhat_upper']].tail(12))\n"
      ],
      "metadata": {
        "id": "AUsEwfGs9vYb"
      },
      "execution_count": null,
      "outputs": []
    },
    {
      "cell_type": "code",
      "source": [
        "fig2 = model.plot_components(forecast)\n"
      ],
      "metadata": {
        "id": "r1gFB-bO9zbE"
      },
      "execution_count": null,
      "outputs": []
    },
    {
      "cell_type": "markdown",
      "source": [],
      "metadata": {
        "id": "JHw9tr4L-KyQ"
      }
    },
    {
      "cell_type": "code",
      "source": [
        "# Add month column\n",
        "monthly_sales['Month'] = monthly_sales['Order Date'].dt.month\n",
        "\n",
        "# Mark potential holiday seasons (Nov-Dec; edit as per business knowledge)\n",
        "monthly_sales['Holiday_Season'] = monthly_sales['Month'].isin([11, 12]).astype(int)\n",
        "print(monthly_sales.head())\n"
      ],
      "metadata": {
        "id": "1qGYdgeh_X7-"
      },
      "execution_count": null,
      "outputs": []
    },
    {
      "cell_type": "code",
      "source": [
        "from prophet.diagnostics import cross_validation, performance_metrics\n",
        "\n",
        "# Cross-validate: initial=80% of data, period=1 month, horizon=6 months\n",
        "cv_results = cross_validation(model, initial='1000 days', period='30 days', horizon = '180 days')\n",
        "perf = performance_metrics(cv_results)\n",
        "print(perf[['horizon','mae','rmse','mape']].head())\n"
      ],
      "metadata": {
        "id": "NgbgdRfO_jnB"
      },
      "execution_count": null,
      "outputs": []
    },
    {
      "cell_type": "code",
      "source": [
        "# Export files\n",
        "monthly_sales.to_csv('monthly_sales.csv', index=False)\n",
        "print(\"monthly_sales.csv created\")\n",
        "\n",
        "forecast[['ds', 'yhat', 'yhat_lower', 'yhat_upper']].to_csv('monthly_forecast.csv', index=False)\n",
        "print(\"monthly_forecast.csv created\")\n",
        "\n",
        "# List files to confirm\n",
        "import os\n",
        "print(os.listdir())\n"
      ],
      "metadata": {
        "id": "_y1jnqblAmzA"
      },
      "execution_count": null,
      "outputs": []
    },
    {
      "cell_type": "code",
      "source": [
        "!unzip archive.zip"
      ],
      "metadata": {
        "id": "imrh6SAMznnA"
      },
      "execution_count": null,
      "outputs": []
    },
    {
      "cell_type": "code",
      "source": [
        "import pandas as pd\n",
        "\n",
        "# Try with latin1 encoding\n",
        "df = pd.read_csv('Sample - Superstore.csv', encoding='latin1')\n",
        "\n",
        "# Aggregate sales by category\n",
        "category_sales = df.groupby('Category')['Sales'].sum().reset_index()\n",
        "category_sales = category_sales.sort_values('Sales', ascending=False)\n",
        "\n",
        "print(category_sales)\n",
        "\n",
        "# Export for Power BI\n",
        "category_sales.to_csv('category_sales.csv', index=False)\n"
      ],
      "metadata": {
        "id": "aA3SpI0n00-h"
      },
      "execution_count": null,
      "outputs": []
    }
  ]
}